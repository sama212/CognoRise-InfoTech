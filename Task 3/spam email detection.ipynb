{
 "cells": [
  {
   "cell_type": "markdown",
   "metadata": {},
   "source": [
    "### import Packages"
   ]
  },
  {
   "cell_type": "code",
   "execution_count": 37,
   "metadata": {},
   "outputs": [],
   "source": [
    "#handel dataset\n",
    "import pandas as pd\n",
    "#spliting dataset\n",
    "from sklearn.model_selection import train_test_split\n",
    "# 1. K-Nearest Neighbors (KNN)\n",
    "from sklearn.neighbors import KNeighborsClassifier\n",
    "# 2. Random Forest Classifier\n",
    "from sklearn.ensemble import RandomForestClassifier\n",
    "# 3. Linear Regression\n",
    "from sklearn.linear_model import LinearRegression\n",
    "# 4. Decision Tree Classifier\n",
    "from sklearn.tree import DecisionTreeClassifier\n",
    "# 5. Logistic Regression\n",
    "from sklearn.linear_model import LogisticRegression\n",
    "#calculate accuracy\n",
    "from sklearn.metrics import accuracy_score, confusion_matrix, classification_report\n",
    "#preprocessing \n",
    "from sklearn.preprocessing import StandardScaler\n",
    "from sklearn.feature_extraction.text import TfidfVectorizer \n",
    "#naive  classification model\n",
    "from sklearn.naive_bayes import MultinomialNB \n",
    "#AdaBoost Classifier\n",
    "from sklearn.ensemble import AdaBoostClassifier"
   ]
  },
  {
   "cell_type": "markdown",
   "metadata": {},
   "source": [
    "### Data loading and preprocessing"
   ]
  },
  {
   "cell_type": "code",
   "execution_count": 17,
   "metadata": {},
   "outputs": [
    {
     "name": "stdout",
     "output_type": "stream",
     "text": [
      "<class 'pandas.core.frame.DataFrame'>\n",
      "RangeIndex: 5572 entries, 0 to 5571\n",
      "Data columns (total 2 columns):\n",
      " #   Column    Non-Null Count  Dtype \n",
      "---  ------    --------------  ----- \n",
      " 0   Category  5572 non-null   object\n",
      " 1   Message   5572 non-null   object\n",
      "dtypes: object(2)\n",
      "memory usage: 87.2+ KB\n"
     ]
    }
   ],
   "source": [
    "#loading data from csv file\n",
    "df = pd.read_csv(\"spam.csv\")\n",
    "\n",
    "#display information about our dataset \n",
    "df.info()"
   ]
  },
  {
   "cell_type": "code",
   "execution_count": 18,
   "metadata": {},
   "outputs": [
    {
     "data": {
      "text/html": [
       "<div>\n",
       "<style scoped>\n",
       "    .dataframe tbody tr th:only-of-type {\n",
       "        vertical-align: middle;\n",
       "    }\n",
       "\n",
       "    .dataframe tbody tr th {\n",
       "        vertical-align: top;\n",
       "    }\n",
       "\n",
       "    .dataframe thead th {\n",
       "        text-align: right;\n",
       "    }\n",
       "</style>\n",
       "<table border=\"1\" class=\"dataframe\">\n",
       "  <thead>\n",
       "    <tr style=\"text-align: right;\">\n",
       "      <th></th>\n",
       "      <th>Category</th>\n",
       "      <th>Message</th>\n",
       "    </tr>\n",
       "  </thead>\n",
       "  <tbody>\n",
       "    <tr>\n",
       "      <th>0</th>\n",
       "      <td>ham</td>\n",
       "      <td>Go until jurong point, crazy.. Available only ...</td>\n",
       "    </tr>\n",
       "    <tr>\n",
       "      <th>1</th>\n",
       "      <td>ham</td>\n",
       "      <td>Ok lar... Joking wif u oni...</td>\n",
       "    </tr>\n",
       "    <tr>\n",
       "      <th>2</th>\n",
       "      <td>spam</td>\n",
       "      <td>Free entry in 2 a wkly comp to win FA Cup fina...</td>\n",
       "    </tr>\n",
       "    <tr>\n",
       "      <th>3</th>\n",
       "      <td>ham</td>\n",
       "      <td>U dun say so early hor... U c already then say...</td>\n",
       "    </tr>\n",
       "    <tr>\n",
       "      <th>4</th>\n",
       "      <td>ham</td>\n",
       "      <td>Nah I don't think he goes to usf, he lives aro...</td>\n",
       "    </tr>\n",
       "  </tbody>\n",
       "</table>\n",
       "</div>"
      ],
      "text/plain": [
       "  Category                                            Message\n",
       "0      ham  Go until jurong point, crazy.. Available only ...\n",
       "1      ham                      Ok lar... Joking wif u oni...\n",
       "2     spam  Free entry in 2 a wkly comp to win FA Cup fina...\n",
       "3      ham  U dun say so early hor... U c already then say...\n",
       "4      ham  Nah I don't think he goes to usf, he lives aro..."
      ]
     },
     "execution_count": 18,
     "metadata": {},
     "output_type": "execute_result"
    }
   ],
   "source": [
    "#display 5 top values  \n",
    "df.head()"
   ]
  },
  {
   "cell_type": "code",
   "execution_count": 19,
   "metadata": {},
   "outputs": [],
   "source": [
    "# Ensure that there are no missing  or duplicate values.\n",
    "\n",
    "df.dropna(inplace = True)\n",
    "df.drop_duplicates(inplace= True)"
   ]
  },
  {
   "cell_type": "code",
   "execution_count": 20,
   "metadata": {},
   "outputs": [],
   "source": [
    "#make features and target & encoding the target column [0 1]\n",
    "df['Category'] = df['Category'].map({'spam': 1, 'ham': 0}) \n",
    "x = df['Message'] \n",
    "y = df['Category']"
   ]
  },
  {
   "cell_type": "code",
   "execution_count": 21,
   "metadata": {},
   "outputs": [],
   "source": [
    "\n",
    "# y = y[x.index] "
   ]
  },
  {
   "cell_type": "code",
   "execution_count": 23,
   "metadata": {},
   "outputs": [],
   "source": [
    "#feature extraction\n",
    "vectorizer = TfidfVectorizer(stop_words='english')\n",
    "x = vectorizer.fit_transform(x)"
   ]
  },
  {
   "cell_type": "code",
   "execution_count": 24,
   "metadata": {},
   "outputs": [],
   "source": [
    "#spilt the data to train and test\n",
    "x_train, x_test, y_train, y_test = train_test_split(x , y, test_size=0.2, random_state=42)"
   ]
  },
  {
   "cell_type": "markdown",
   "metadata": {},
   "source": [
    "### models \n",
    "\n",
    "we selected here this models:\n",
    "* K-Nearest Neighbors (KNN)\n",
    "* Random Forest Classifier\n",
    "* Adaboosting Classifier\n",
    "* Logistic Regression"
   ]
  },
  {
   "cell_type": "markdown",
   "metadata": {},
   "source": [
    "---"
   ]
  },
  {
   "cell_type": "markdown",
   "metadata": {},
   "source": [
    "K-Nearest Neighbors (KNN) model"
   ]
  },
  {
   "cell_type": "code",
   "execution_count": 25,
   "metadata": {},
   "outputs": [
    {
     "name": "stdout",
     "output_type": "stream",
     "text": [
      "Model trained successfully :) \n"
     ]
    }
   ],
   "source": [
    "#create the model\n",
    "knn = KNeighborsClassifier()\n",
    "\n",
    "#train the model\n",
    "knn.fit(x_train, y_train)\n",
    "\n",
    "print(\"Model trained successfully :) \")"
   ]
  },
  {
   "cell_type": "code",
   "execution_count": 26,
   "metadata": {},
   "outputs": [
    {
     "name": "stdout",
     "output_type": "stream",
     "text": [
      "Predicted values:\n",
      "[0 0 0 ... 0 0 0]\n"
     ]
    }
   ],
   "source": [
    "# Predicted  using x_test values\n",
    "\n",
    "y_pred = knn.predict(x_test)\n",
    "\n",
    "print(\"Predicted values:\")\n",
    "print(y_pred)"
   ]
  },
  {
   "cell_type": "code",
   "execution_count": 27,
   "metadata": {},
   "outputs": [
    {
     "name": "stdout",
     "output_type": "stream",
     "text": [
      "<< K-Nearest Neighbors (KNN) Model >>\n",
      "Model Accuracy: 0.90\n",
      "\n",
      "================================================\n",
      "\n",
      "Confusion Matrix:\n",
      "[[896   0]\n",
      " [102  34]]\n",
      "\n",
      "================================================\n",
      "\n",
      "Classification Report:\n",
      "              precision    recall  f1-score   support\n",
      "\n",
      "           0       0.90      1.00      0.95       896\n",
      "           1       1.00      0.25      0.40       136\n",
      "\n",
      "    accuracy                           0.90      1032\n",
      "   macro avg       0.95      0.62      0.67      1032\n",
      "weighted avg       0.91      0.90      0.87      1032\n",
      "\n"
     ]
    }
   ],
   "source": [
    "print(\"<< K-Nearest Neighbors (KNN) Model >>\")\n",
    "#calculate the accuracy \n",
    "accuracy = accuracy_score(y_test, y_pred)\n",
    "print(f\"Model Accuracy: {accuracy:.2f}\")\n",
    "\n",
    "#calculate the Confusion Matrix\n",
    "print(\"\\n================================================\\n\")\n",
    "print(\"Confusion Matrix:\")\n",
    "print(confusion_matrix(y_test, y_pred))\n",
    "\n",
    "#report with more information\n",
    "print(\"\\n================================================\\n\")\n",
    "print(\"Classification Report:\")\n",
    "print(classification_report(y_test, y_pred))"
   ]
  },
  {
   "cell_type": "markdown",
   "metadata": {},
   "source": [
    "Logistic Regression model"
   ]
  },
  {
   "cell_type": "code",
   "execution_count": 29,
   "metadata": {},
   "outputs": [
    {
     "name": "stdout",
     "output_type": "stream",
     "text": [
      "Model trained successfully :) \n"
     ]
    }
   ],
   "source": [
    "#create the model\n",
    "logistic_regression = LogisticRegression()\n",
    "\n",
    "#train the model\n",
    "logistic_regression.fit(x_train, y_train)\n",
    "\n",
    "print(\"Model trained successfully :) \")"
   ]
  },
  {
   "cell_type": "code",
   "execution_count": 30,
   "metadata": {},
   "outputs": [
    {
     "name": "stdout",
     "output_type": "stream",
     "text": [
      "Predicted values:\n",
      "[0 1 0 ... 0 0 0]\n"
     ]
    }
   ],
   "source": [
    "# Predicted  using x_test values\n",
    "\n",
    "y_pred = logistic_regression.predict(x_test)\n",
    "\n",
    "print(\"Predicted values:\")\n",
    "print(y_pred)"
   ]
  },
  {
   "cell_type": "code",
   "execution_count": 31,
   "metadata": {},
   "outputs": [
    {
     "name": "stdout",
     "output_type": "stream",
     "text": [
      "<< Logistic Regression Model >>\n",
      "Model Accuracy : 0.94\n",
      "\n",
      "================================================\n",
      "\n",
      "Confusion Matrix:\n",
      "[[893   3]\n",
      " [ 61  75]]\n",
      "\n",
      "================================================\n",
      "\n",
      "Classification Report:\n",
      "              precision    recall  f1-score   support\n",
      "\n",
      "           0       0.94      1.00      0.97       896\n",
      "           1       0.96      0.55      0.70       136\n",
      "\n",
      "    accuracy                           0.94      1032\n",
      "   macro avg       0.95      0.77      0.83      1032\n",
      "weighted avg       0.94      0.94      0.93      1032\n",
      "\n"
     ]
    }
   ],
   "source": [
    "print(\"<< Logistic Regression Model >>\")\n",
    "#calculate the accuracy \n",
    "accuracy = accuracy_score(y_test, y_pred)\n",
    "print(f\"Model Accuracy : {accuracy:.2f}\")\n",
    "\n",
    "#calculate the Confusion Matrix\n",
    "print(\"\\n================================================\\n\")\n",
    "print(\"Confusion Matrix:\")\n",
    "print(confusion_matrix(y_test, y_pred))\n",
    "\n",
    "#report with more information\n",
    "print(\"\\n================================================\\n\")\n",
    "print(\"Classification Report:\")\n",
    "print(classification_report(y_test, y_pred))"
   ]
  },
  {
   "cell_type": "markdown",
   "metadata": {},
   "source": [
    "Random Forest Classifier "
   ]
  },
  {
   "cell_type": "code",
   "execution_count": 32,
   "metadata": {},
   "outputs": [
    {
     "name": "stdout",
     "output_type": "stream",
     "text": [
      "Model trained successfully :D\n"
     ]
    }
   ],
   "source": [
    "#create the model\n",
    "random_forest = RandomForestClassifier()\n",
    "\n",
    "#train the model\n",
    "random_forest.fit(x_train , y_train)\n",
    "\n",
    "print(\"Model trained successfully :D\")"
   ]
  },
  {
   "cell_type": "code",
   "execution_count": 33,
   "metadata": {},
   "outputs": [
    {
     "name": "stdout",
     "output_type": "stream",
     "text": [
      "Predicted values:\n",
      "[0 0 0 ... 0 0 0]\n"
     ]
    }
   ],
   "source": [
    "# Predicted  using x_test values\n",
    "\n",
    "y_pred = random_forest.predict(x_test)\n",
    "\n",
    "print(\"Predicted values:\")\n",
    "print(y_pred)"
   ]
  },
  {
   "cell_type": "code",
   "execution_count": 34,
   "metadata": {},
   "outputs": [
    {
     "name": "stdout",
     "output_type": "stream",
     "text": [
      "<< Random Forest >>\n",
      "Model Accuracy : 0.97\n",
      "\n",
      "================================================\n",
      "\n",
      "Confusion Matrix:\n",
      "[[894   2]\n",
      " [ 24 112]]\n",
      "\n",
      "================================================\n",
      "\n",
      "Classification Report:\n",
      "              precision    recall  f1-score   support\n",
      "\n",
      "           0       0.97      1.00      0.99       896\n",
      "           1       0.98      0.82      0.90       136\n",
      "\n",
      "    accuracy                           0.97      1032\n",
      "   macro avg       0.98      0.91      0.94      1032\n",
      "weighted avg       0.97      0.97      0.97      1032\n",
      "\n"
     ]
    }
   ],
   "source": [
    "print(\"<< Random Forest >>\")\n",
    "#calculate the accuracy \n",
    "accuracy = accuracy_score(y_test, y_pred)\n",
    "print(f\"Model Accuracy : {accuracy:.2f}\")\n",
    "\n",
    "#calculate the Confusion Matrix\n",
    "print(\"\\n================================================\\n\")\n",
    "print(\"Confusion Matrix:\")\n",
    "print(confusion_matrix(y_test, y_pred))\n",
    "\n",
    "#report with more information\n",
    "print(\"\\n================================================\\n\")\n",
    "print(\"Classification Report:\")\n",
    "print(classification_report(y_test, y_pred))"
   ]
  },
  {
   "cell_type": "markdown",
   "metadata": {},
   "source": [
    "Adaboosting Classifier"
   ]
  },
  {
   "cell_type": "code",
   "execution_count": 43,
   "metadata": {},
   "outputs": [
    {
     "name": "stderr",
     "output_type": "stream",
     "text": [
      "c:\\Users\\SAMA\\AppData\\Local\\Programs\\Python\\Python310\\lib\\site-packages\\sklearn\\ensemble\\_weight_boosting.py:527: FutureWarning: The SAMME.R algorithm (the default) is deprecated and will be removed in 1.6. Use the SAMME algorithm to circumvent this warning.\n",
      "  warnings.warn(\n"
     ]
    },
    {
     "name": "stdout",
     "output_type": "stream",
     "text": [
      "Model trained successfully :) \n"
     ]
    }
   ],
   "source": [
    "#create the model\n",
    "base_estimator = DecisionTreeClassifier(max_depth=1) \n",
    "AC = AdaBoostClassifier( n_estimators=50, learning_rate=1.0, random_state=42) \n",
    "\n",
    "#train the model\n",
    "AC.fit(x_train, y_train)\n",
    "\n",
    "print(\"Model trained successfully :) \")"
   ]
  },
  {
   "cell_type": "code",
   "execution_count": 44,
   "metadata": {},
   "outputs": [
    {
     "name": "stdout",
     "output_type": "stream",
     "text": [
      "Predicted values:\n",
      "[0 0 0 ... 0 0 0]\n"
     ]
    }
   ],
   "source": [
    "# Predicted  using x_test values\n",
    "\n",
    "y_pred = AC.predict(x_test)\n",
    "\n",
    "print(\"Predicted values:\")\n",
    "print(y_pred)"
   ]
  },
  {
   "cell_type": "code",
   "execution_count": 45,
   "metadata": {},
   "outputs": [
    {
     "name": "stdout",
     "output_type": "stream",
     "text": [
      "<< Adaboosting Classifier >>\n",
      "Model Accuracy: 0.96\n",
      "\n",
      "================================================\n",
      "\n",
      "Confusion Matrix:\n",
      "[[889   7]\n",
      " [ 31 105]]\n",
      "\n",
      "================================================\n",
      "\n",
      "Classification Report:\n",
      "              precision    recall  f1-score   support\n",
      "\n",
      "           0       0.97      0.99      0.98       896\n",
      "           1       0.94      0.77      0.85       136\n",
      "\n",
      "    accuracy                           0.96      1032\n",
      "   macro avg       0.95      0.88      0.91      1032\n",
      "weighted avg       0.96      0.96      0.96      1032\n",
      "\n"
     ]
    }
   ],
   "source": [
    "print(\"<< Adaboosting Classifier >>\")\n",
    "#calculate the accuracy \n",
    "accuracy = accuracy_score(y_test, y_pred)\n",
    "print(f\"Model Accuracy: {accuracy:.2f}\")\n",
    "\n",
    "#calculate the Confusion Matrix\n",
    "print(\"\\n================================================\\n\")\n",
    "print(\"Confusion Matrix:\")\n",
    "print(confusion_matrix(y_test, y_pred))\n",
    "\n",
    "#report with more information\n",
    "print(\"\\n================================================\\n\")\n",
    "print(\"Classification Report:\")\n",
    "print(classification_report(y_test, y_pred))"
   ]
  },
  {
   "cell_type": "markdown",
   "metadata": {},
   "source": [
    "Naive Bayes [best one with the problem]"
   ]
  },
  {
   "cell_type": "code",
   "execution_count": 47,
   "metadata": {},
   "outputs": [
    {
     "name": "stdout",
     "output_type": "stream",
     "text": [
      "Model trained successfully :) \n"
     ]
    }
   ],
   "source": [
    "#create the model\n",
    "NB = MultinomialNB()\n",
    "\n",
    "#train the model\n",
    "NB.fit(x_train, y_train)\n",
    "\n",
    "print(\"Model trained successfully :) \")"
   ]
  },
  {
   "cell_type": "code",
   "execution_count": 48,
   "metadata": {},
   "outputs": [
    {
     "name": "stdout",
     "output_type": "stream",
     "text": [
      "Predicted values:\n",
      "[0 0 0 ... 0 0 0]\n"
     ]
    }
   ],
   "source": [
    "# Predicted  using x_test values\n",
    "\n",
    "y_pred = NB.predict(x_test)\n",
    "\n",
    "print(\"Predicted values:\")\n",
    "print(y_pred)"
   ]
  },
  {
   "cell_type": "code",
   "execution_count": 49,
   "metadata": {},
   "outputs": [
    {
     "name": "stdout",
     "output_type": "stream",
     "text": [
      "<< Naive Bayes >>\n",
      "Model Accuracy : 0.97\n",
      "\n",
      "================================================\n",
      "\n",
      "Confusion Matrix:\n",
      "[[896   0]\n",
      " [ 32 104]]\n",
      "\n",
      "================================================\n",
      "\n",
      "Classification Report:\n",
      "              precision    recall  f1-score   support\n",
      "\n",
      "           0       0.97      1.00      0.98       896\n",
      "           1       1.00      0.76      0.87       136\n",
      "\n",
      "    accuracy                           0.97      1032\n",
      "   macro avg       0.98      0.88      0.92      1032\n",
      "weighted avg       0.97      0.97      0.97      1032\n",
      "\n"
     ]
    }
   ],
   "source": [
    "print(\"<< Naive Bayes >>\")\n",
    "#calculate the accuracy \n",
    "accuracy = accuracy_score(y_test, y_pred)\n",
    "print(f\"Model Accuracy : {accuracy:.2f}\")\n",
    "\n",
    "#calculate the Confusion Matrix\n",
    "print(\"\\n================================================\\n\")\n",
    "print(\"Confusion Matrix:\")\n",
    "print(confusion_matrix(y_test, y_pred))\n",
    "\n",
    "#report with more information\n",
    "print(\"\\n================================================\\n\")\n",
    "print(\"Classification Report:\")\n",
    "print(classification_report(y_test, y_pred))"
   ]
  }
 ],
 "metadata": {
  "kernelspec": {
   "display_name": "Python 3",
   "language": "python",
   "name": "python3"
  },
  "language_info": {
   "codemirror_mode": {
    "name": "ipython",
    "version": 3
   },
   "file_extension": ".py",
   "mimetype": "text/x-python",
   "name": "python",
   "nbconvert_exporter": "python",
   "pygments_lexer": "ipython3",
   "version": "3.10.0"
  }
 },
 "nbformat": 4,
 "nbformat_minor": 2
}
